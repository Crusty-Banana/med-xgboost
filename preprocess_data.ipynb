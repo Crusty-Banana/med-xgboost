{
 "cells": [
  {
   "cell_type": "code",
   "execution_count": 11,
   "metadata": {},
   "outputs": [],
   "source": [
    "# Import libraries\n",
    "import pandas as pd\n",
    "import json\n",
    "import ast\n",
    "from sklearn.preprocessing import OneHotEncoder, LabelEncoder"
   ]
  },
  {
   "cell_type": "code",
   "execution_count": 12,
   "metadata": {},
   "outputs": [],
   "source": [
    "train_patients_path = 'data/DDXPlus/release_train_patients.csv'\n",
    "test_patients_path = 'data/DDXPlus/release_test_patients.csv'\n",
    "validate_patients_path = 'data/DDXPlus/release_validate_patients.csv'\n",
    "\n",
    "condition_info_path = 'data/DDXPlus/release_conditions.json'\n",
    "evidence_info_path = 'data/DDXPlus/release_evidences.json'\n",
    "\n",
    "train_processed_sample = 'data/processed/train_processed_sample.csv'\n",
    "train_processed_target = 'data/processed/train_processed_target.csv'\n",
    "train_processed_diff = 'data/processed/train_processed_differential_diagnosis.csv'\n",
    "\n",
    "test_processed_sample = 'data/processed/test_processed_sample.csv'\n",
    "test_processed_target = 'data/processed/test_processed_target.csv'\n",
    "test_processed_diff = 'data/processed/test_processed_differential_diagnosis.csv'\n",
    "\n",
    "validate_processed_sample = 'data/processed/validate_processed_sample.csv'\n",
    "validate_processed_target = 'data/processed/validate_processed_target.csv'\n",
    "validate_processed_diff = 'data/processed/validate_processed_differential_diagnosis.csv'"
   ]
  },
  {
   "cell_type": "code",
   "execution_count": 13,
   "metadata": {},
   "outputs": [],
   "source": [
    "with open(evidence_info_path, 'r') as json_file:\n",
    "    evidence_info = json.load(json_file)\n",
    "\n",
    "\n",
    "with open(condition_info_path, 'r') as json_file:\n",
    "    condition_info = json.load(json_file)\n",
    "\n",
    "with open('data/encoding/pathology_encoding.json', 'r') as json_file:\n",
    "    pathology_encoding = json.load(json_file)\n",
    "pathology_inverse_encoding = {v: int(k) for k, v in pathology_encoding.items()}"
   ]
  },
  {
   "cell_type": "code",
   "execution_count": 14,
   "metadata": {},
   "outputs": [],
   "source": [
    "def extract_diff(df, diff_ouput):\n",
    "    df = df.drop(['AGE', 'SEX', 'EVIDENCES', 'PATHOLOGY', 'INITIAL_EVIDENCE'], axis=1)\n",
    "\n",
    "    # Transform the DIFFERENTIAL_DIAGNOSIS into a multi-output format\n",
    "    # Extract all possible pathologies from the DIFFERENTIAL_DIAGNOSIS column\n",
    "    df['DIFFERENTIAL_DIAGNOSIS'] = df['DIFFERENTIAL_DIAGNOSIS'].apply(ast.literal_eval)\n",
    "    all_pathologies = list(condition_info.keys())\n",
    "\n",
    "    # Create a DataFrame for the target with one column per pathology, initialized to 0\n",
    "    diffrential_diagnosis = pd.DataFrame(0.0, index=df.index, columns=all_pathologies)\n",
    "\n",
    "    # Populate the target DataFrame with the probabilities from DIFFERENTIAL_DIAGNOSIS\n",
    "    for idx, diag in enumerate(df['DIFFERENTIAL_DIAGNOSIS']):\n",
    "        for patho, proba in diag:\n",
    "            diffrential_diagnosis.at[idx, patho] = proba\n",
    "\n",
    "    diffrential_diagnosis.to_csv(diff_ouput, index=False)\n",
    "\n",
    "def extract_sample(df, sample_output):\n",
    "    df = df.drop(['PATHOLOGY', 'INITIAL_EVIDENCE', 'DIFFERENTIAL_DIAGNOSIS'], axis=1)\n",
    "\n",
    "    # Make SEX binary\n",
    "    df['SEX'] = df['SEX'].map({'Male': 0, 'Female': 1})\n",
    "\n",
    "    df['EVIDENCES'] = df['EVIDENCES'].str.strip('[]').replace(\"'\", \"\").str.split(', ')\n",
    "    # Get all unique evidence in table\n",
    "    all_evidences = list(evidence_info.keys())\n",
    "\n",
    "    # Create a DataFrame with all evidence columns initialized to 0\n",
    "    X = pd.DataFrame(0, index=df.index, columns=all_evidences)\n",
    "\n",
    "    # Populate the DataFrame by setting appropriate evidence to 1 where they exist in the row's list\n",
    "    for evidence in all_evidences:\n",
    "        X[evidence] = df['EVIDENCES'].apply(lambda x: 1 if evidence in x else 0)\n",
    "\n",
    "    # Concatenate the evidence DataFrame with the original DataFrame\n",
    "    X = pd.concat([df.drop(['EVIDENCES'], axis=1), X], axis=1)\n",
    "\n",
    "    X.to_csv(sample_output, index=False)\n",
    "\n",
    "def extract_target(df, target_output, encoding={}):\n",
    "    if encoding == {}:\n",
    "        y = pd.DataFrame(0, index=df.index, columns=['PATHOLOGY'])\n",
    "        label_encoder = LabelEncoder()\n",
    "        y['PATHOLOGY'] = label_encoder.fit_transform(df['PATHOLOGY'])\n",
    "        y.to_csv(target_output, index=False)\n",
    "\n",
    "        number_of_classes = len(label_encoder.classes_)\n",
    "        for i in range(number_of_classes):\n",
    "            encoding[i] = label_encoder.inverse_transform([i])[0]\n",
    "        with open('data/encoding/pathology_encoding.json', 'w') as file:\n",
    "            json.dump(encoding, file)\n",
    "    else:\n",
    "        y = pd.DataFrame(0, index=df.index, columns=['PATHOLOGY'])\n",
    "        y['PATHOLOGY'] = df['PATHOLOGY'].map(encoding)\n",
    "        y.to_csv(target_output, index=False)\n"
   ]
  },
  {
   "cell_type": "code",
   "execution_count": 15,
   "metadata": {},
   "outputs": [],
   "source": [
    "train_df = pd.read_csv(train_patients_path)\n",
    "extract_target(train_df, train_processed_target, pathology_inverse_encoding)\n",
    "extract_sample(train_df, train_processed_sample)\n",
    "extract_diff(train_df, train_processed_diff)\n",
    "del train_df"
   ]
  },
  {
   "cell_type": "code",
   "execution_count": 16,
   "metadata": {},
   "outputs": [],
   "source": [
    "test_df = pd.read_csv(test_patients_path)\n",
    "extract_target(test_df, test_processed_target, pathology_inverse_encoding)\n",
    "extract_sample(test_df, test_processed_sample)\n",
    "extract_diff(test_df, test_processed_diff)\n",
    "del test_df"
   ]
  },
  {
   "cell_type": "code",
   "execution_count": 17,
   "metadata": {},
   "outputs": [],
   "source": [
    "validate_df = pd.read_csv(validate_patients_path)\n",
    "extract_target(validate_df, validate_processed_target, pathology_inverse_encoding)\n",
    "extract_sample(validate_df, validate_processed_sample)\n",
    "extract_diff(validate_df, validate_processed_diff)\n",
    "del validate_df"
   ]
  }
 ],
 "metadata": {
  "kernelspec": {
   "display_name": "venv",
   "language": "python",
   "name": "python3"
  },
  "language_info": {
   "codemirror_mode": {
    "name": "ipython",
    "version": 3
   },
   "file_extension": ".py",
   "mimetype": "text/x-python",
   "name": "python",
   "nbconvert_exporter": "python",
   "pygments_lexer": "ipython3",
   "version": "3.8.10"
  }
 },
 "nbformat": 4,
 "nbformat_minor": 2
}
