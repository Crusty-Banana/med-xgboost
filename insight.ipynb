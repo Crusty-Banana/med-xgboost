{
 "cells": [
  {
   "cell_type": "code",
   "execution_count": 1,
   "metadata": {},
   "outputs": [],
   "source": [
    "import xgboost as xgb\n",
    "import pandas as pd\n",
    "from sklearn.model_selection import train_test_split\n",
    "from sklearn.metrics import log_loss\n",
    "from scipy.special import rel_entr\n",
    "import numpy as np"
   ]
  },
  {
   "cell_type": "code",
   "execution_count": 2,
   "metadata": {},
   "outputs": [],
   "source": [
    "validate_processed_sample = 'data/processed/validate_processed_sample.csv'\n",
    "validate_processed_target = 'data/processed/validate_processed_target.csv'\n",
    "validate_processed_diff = 'data/processed/validate_processed_differential_diagnosis.csv'"
   ]
  },
  {
   "cell_type": "code",
   "execution_count": 3,
   "metadata": {},
   "outputs": [],
   "source": [
    "X_val = pd.read_csv(validate_processed_sample)\n",
    "y_val = pd.read_csv(validate_processed_target)\n",
    "\n",
    "dval = xgb.DMatrix(X_val, label=y_val)\n",
    "\n",
    "del X_val\n",
    "\n",
    "diff_val = pd.read_csv(validate_processed_diff)\n",
    "diff_val = diff_val.to_numpy()\n",
    "y_val = y_val.to_numpy()"
   ]
  },
  {
   "cell_type": "code",
   "execution_count": 21,
   "metadata": {},
   "outputs": [
    {
     "name": "stdout",
     "output_type": "stream",
     "text": [
      "There are 49 possible pathology in the dataset.\n"
     ]
    },
    {
     "name": "stdout",
     "output_type": "stream",
     "text": [
      "73.34878593863252% of top 1 pathology in dataset differental diagnosis being the correct pathology\n",
      "97.2630768301522% of top 5 pathology in dataset differental diagnosis being the correct pathology\n",
      "99.62400338245953% of top 10 pathology in dataset differental diagnosis being the correct pathology\n",
      "99.99244986711766% of top 20 pathology in dataset differental diagnosis being the correct pathology\n",
      "100.0% of top 25 pathology in dataset differental diagnosis being the correct pathology\n"
     ]
    }
   ],
   "source": [
    "print(\"There are 49 possible pathology in the dataset.\")\n",
    "for top in [1, 5, 10, 20, 25]:\n",
    "    predicted_classes = np.argsort(diff_val, axis=1)[:,-top:]\n",
    "    correct_predictions = 0\n",
    "\n",
    "    for i in range(len(y_val)):\n",
    "        if y_val[i] in predicted_classes[i]:\n",
    "            correct_predictions += 1\n",
    "\n",
    "    print(f\"{correct_predictions/y_val.shape[0] * 100}% of top {top} pathology in dataset differental diagnosis being the correct pathology\")"
   ]
  },
  {
   "cell_type": "code",
   "execution_count": 31,
   "metadata": {},
   "outputs": [
    {
     "name": "stdout",
     "output_type": "stream",
     "text": [
      "There are 49 possible pathology in the dataset.\n",
      "99.70176975114762% of top 1 pathology in differental diagnosis prediction being the correct pathology\n",
      "99.99924498671177% of top 2 pathology in differental diagnosis prediction being the correct pathology\n",
      "100.0% of top 3 pathology in differental diagnosis prediction being the correct pathology\n"
     ]
    }
   ],
   "source": [
    "bst = xgb.Booster()\n",
    "model_filename = 'model/dep8_lr30_subsam7_colsam4_rnd30_sed37702_GTPA9970_DDP9967_DDR2160_F1_3550.json'\n",
    "bst.load_model(model_filename)\n",
    "y_pred_prob = bst.predict(dval)\n",
    "\n",
    "print(\"This model is trained to predict the correct pathology.\")\n",
    "for top in [1, 2, 3]:\n",
    "    predicted_classes = np.argsort(y_pred_prob, axis=1)[:,-top:]\n",
    "    correct_predictions = 0\n",
    "\n",
    "    for i in range(len(y_val)):\n",
    "        if y_val[i] in predicted_classes[i]:\n",
    "            correct_predictions += 1\n",
    "\n",
    "    print(f\"{correct_predictions/y_val.shape[0] * 100}% of top {top} pathology in differental diagnosis prediction being the correct pathology\")"
   ]
  }
 ],
 "metadata": {
  "kernelspec": {
   "display_name": "venv",
   "language": "python",
   "name": "python3"
  },
  "language_info": {
   "codemirror_mode": {
    "name": "ipython",
    "version": 3
   },
   "file_extension": ".py",
   "mimetype": "text/x-python",
   "name": "python",
   "nbconvert_exporter": "python",
   "pygments_lexer": "ipython3",
   "version": "3.8.10"
  }
 },
 "nbformat": 4,
 "nbformat_minor": 2
}
