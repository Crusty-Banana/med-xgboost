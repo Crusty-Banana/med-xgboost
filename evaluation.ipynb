{
 "cells": [
  {
   "cell_type": "code",
   "execution_count": 12,
   "metadata": {},
   "outputs": [],
   "source": [
    "import xgboost as xgb\n",
    "import pandas as pd\n",
    "from sklearn.model_selection import train_test_split\n",
    "from sklearn.metrics import log_loss\n",
    "from scipy.special import rel_entr\n",
    "import numpy as np"
   ]
  },
  {
   "cell_type": "code",
   "execution_count": 13,
   "metadata": {},
   "outputs": [],
   "source": [
    "validate_processed_sample = 'data/processed/validate_processed_sample.csv'\n",
    "validate_processed_target = 'data/processed/validate_processed_target.csv'\n",
    "validate_processed_diff = 'data/processed/validate_processed_differential_diagnosis.csv'"
   ]
  },
  {
   "cell_type": "code",
   "execution_count": 14,
   "metadata": {},
   "outputs": [],
   "source": [
    "X_val = pd.read_csv(validate_processed_sample)\n",
    "y_val = pd.read_csv(validate_processed_target)\n",
    "\n",
    "dval = xgb.DMatrix(X_val, label=y_val)\n",
    "\n",
    "del X_val\n",
    "del y_val\n",
    "\n",
    "diff_val = pd.read_csv(validate_processed_diff)\n",
    "diff_val = diff_val.to_numpy()"
   ]
  },
  {
   "cell_type": "code",
   "execution_count": 21,
   "metadata": {},
   "outputs": [],
   "source": [
    "bst = xgb.Booster()\n",
    "model_filename = 'model/xgboost_model_7749.json'\n",
    "bst.load_model(model_filename)"
   ]
  },
  {
   "cell_type": "code",
   "execution_count": 22,
   "metadata": {},
   "outputs": [],
   "source": [
    "y_pred_prob = bst.predict(dval)\n",
    "# predicted_classes = np.argmax(y_pred_prob, axis=1)\n",
    "\n",
    "threshold = 0.01\n",
    "\n",
    "DDrecall = 0\n",
    "DDprecision = 0\n",
    "for i in range(len(y_pred_prob)):\n",
    "    overlap = 0\n",
    "    diff_num = 0 \n",
    "    pred_num = 0\n",
    "    for pathology in range(49):\n",
    "        if (y_pred_prob[i][pathology] > threshold):\n",
    "            pred_num += 1\n",
    "        if (diff_val[i][pathology] > threshold):\n",
    "            diff_num += 1\n",
    "\n",
    "            if (y_pred_prob[i][pathology] > threshold):\n",
    "                overlap += 1\n",
    "\n",
    "    DDrecall += overlap/diff_num\n",
    "    DDprecision += overlap/pred_num\n",
    "\n",
    "DDrecall /= len(y_pred_prob)\n",
    "DDprecision /= len(y_pred_prob)\n",
    "F1 = (2 * DDprecision * DDrecall) / (DDprecision + DDrecall)"
   ]
  },
  {
   "cell_type": "code",
   "execution_count": 23,
   "metadata": {},
   "outputs": [
    {
     "name": "stdout",
     "output_type": "stream",
     "text": [
      "0.018655331472074644\n",
      "0.1776137301683176\n",
      "0.03376429257457336\n"
     ]
    }
   ],
   "source": [
    "print(DDrecall)\n",
    "print(DDprecision)\n",
    "print(F1)"
   ]
  }
 ],
 "metadata": {
  "kernelspec": {
   "display_name": "venv",
   "language": "python",
   "name": "python3"
  },
  "language_info": {
   "codemirror_mode": {
    "name": "ipython",
    "version": 3
   },
   "file_extension": ".py",
   "mimetype": "text/x-python",
   "name": "python",
   "nbconvert_exporter": "python",
   "pygments_lexer": "ipython3",
   "version": "3.8.10"
  }
 },
 "nbformat": 4,
 "nbformat_minor": 2
}
