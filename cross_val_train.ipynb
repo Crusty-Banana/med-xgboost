{
 "cells": [
  {
   "cell_type": "code",
   "execution_count": 1,
   "metadata": {},
   "outputs": [],
   "source": [
    "import xgboost as xgb\n",
    "import pandas as pd\n",
    "from sklearn.model_selection import train_test_split\n",
    "from sklearn.metrics import log_loss\n",
    "from scipy.special import rel_entr\n",
    "import numpy as np\n",
    "import json\n",
    "from sklearn.metrics import accuracy_score\n",
    "import random"
   ]
  },
  {
   "cell_type": "code",
   "execution_count": 2,
   "metadata": {},
   "outputs": [],
   "source": [
    "train_processed_sample = 'data/processed/train_processed_sample1.csv'\n",
    "train_processed_target = 'data/processed/train_processed_target.csv'\n",
    "\n",
    "test_processed_sample = 'data/processed/test_processed_sample1.csv'\n",
    "test_processed_target = 'data/processed/test_processed_target.csv'\n",
    "test_processed_diff = 'data/processed/test_processed_differential_diagnosis.csv'\n",
    "\n",
    "validate_processed_sample = 'data/processed/validate_processed_sample.csv'\n",
    "validate_processed_target = 'data/processed/validate_processed_target.csv'\n",
    "validate_processed_diff = 'data/processed/validate_processed_differential_diagnosis.csv'"
   ]
  },
  {
   "cell_type": "code",
   "execution_count": 3,
   "metadata": {},
   "outputs": [],
   "source": [
    "dep_list = [10, 15, 20, 30]\n",
    "lr_list = [0.01, 0.05, 0.1, 0.3]\n",
    "subsam_list = [0.4, 0.7]\n",
    "colsam_list = [0.4, 0.7]\n",
    "rnd_list = [10, 15, 20, 30]"
   ]
  },
  {
   "cell_type": "code",
   "execution_count": 4,
   "metadata": {},
   "outputs": [],
   "source": [
    "X_train = pd.read_csv(train_processed_sample)\n",
    "y_train = pd.read_csv(train_processed_target)\n",
    "\n",
    "dtrain = xgb.DMatrix(X_train, label=y_train)\n",
    "\n",
    "del X_train\n",
    "del y_train\n",
    "\n",
    "X_val = pd.read_csv(validate_processed_sample)\n",
    "y_val = pd.read_csv(validate_processed_target)\n",
    "\n",
    "dval = xgb.DMatrix(X_val, label=y_val)\n",
    "\n",
    "y_val = y_val['PATHOLOGY'].values\n",
    "\n",
    "diff_val = pd.read_csv(validate_processed_diff)\n",
    "diff_val = diff_val.to_numpy()"
   ]
  },
  {
   "cell_type": "code",
   "execution_count": 5,
   "metadata": {},
   "outputs": [],
   "source": [
    "while True:\n",
    "    for dep in dep_list:\n",
    "        for lr in lr_list:\n",
    "            for subsam in subsam_list:\n",
    "                for colsam in colsam_list:\n",
    "                    for rnd in rnd_list:\n",
    "                        seed = random.randint(0, 100000)\n",
    "                        model_filename = \"model/dep\" + str(dep) + \"_lr\" + str(int(lr*100)) + \"_subsam\" + str(int(subsam*10)) + \"_colsam\" + str(int(colsam*10)) + \"_rnd\" + str(rnd) + \"_sed\" + str(seed)\n",
    "\n",
    "                        params = {\n",
    "                            'objective': 'multi:softprob',  # Multi-class classification with probabilities\n",
    "                            'num_class': 49,  # Number of classes\n",
    "                            'eval_metric': 'mlogloss',  # Multi-class log loss\n",
    "                            'max_depth': dep,  # Maximum depth of a tree\n",
    "                            'learning_rate': lr,  # Learning rate\n",
    "                            'subsample': subsam,  # Subsample ratio\n",
    "                            'colsample_bytree': colsam,  # Subsample ratio of columns\n",
    "                            'seed': seed,\n",
    "                            'device': 'cuda',\n",
    "                        }\n",
    "\n",
    "                        bst = xgb.train(params, dtrain, num_boost_round=rnd)\n",
    "\n",
    "                        # Eval\n",
    "                        y_pred_prob = bst.predict(dval)\n",
    "\n",
    "                        predicted_classes = np.argmax(y_pred_prob, axis=1)\n",
    "                        score = accuracy_score(y_val, predicted_classes)\n",
    "                        model_filename += \"_GTPA\" + str(int(score * 10000))\n",
    "\n",
    "                        threshold = 0.01\n",
    "\n",
    "                        DDrecall = 0\n",
    "                        DDprecision = 0\n",
    "                        for i in range(len(y_pred_prob)):\n",
    "                            overlap = 0\n",
    "                            diff_num = 0 \n",
    "                            pred_num = 0\n",
    "                            for pathology in range(49):\n",
    "                                if (y_pred_prob[i][pathology] > threshold):\n",
    "                                    pred_num += 1\n",
    "                                if (diff_val[i][pathology] > threshold):\n",
    "                                    diff_num += 1\n",
    "\n",
    "                                    if (y_pred_prob[i][pathology] > threshold):\n",
    "                                        overlap += 1\n",
    "\n",
    "                            DDrecall += overlap/diff_num\n",
    "                            DDprecision += overlap/pred_num\n",
    "\n",
    "                        DDrecall /= len(y_pred_prob)\n",
    "                        DDprecision /= len(y_pred_prob)\n",
    "                        F1 = (2 * DDprecision * DDrecall) / (DDprecision + DDrecall)\n",
    "\n",
    "                        # Save model for later use\n",
    "                        model_filename += \"_DDP\" + str(int(DDprecision*10000)) + \"_DDR\" + str(int(DDrecall*10000)) + \"_F1_\" + str(int(F1 * 10000)) + \".json\"\n",
    "                        bst.save_model(model_filename)\n"
   ]
  }
 ],
 "metadata": {
  "kernelspec": {
   "display_name": "venv",
   "language": "python",
   "name": "python3"
  },
  "language_info": {
   "codemirror_mode": {
    "name": "ipython",
    "version": 3
   },
   "file_extension": ".py",
   "mimetype": "text/x-python",
   "name": "python",
   "nbconvert_exporter": "python",
   "pygments_lexer": "ipython3",
   "version": "3.8.10"
  }
 },
 "nbformat": 4,
 "nbformat_minor": 2
}
