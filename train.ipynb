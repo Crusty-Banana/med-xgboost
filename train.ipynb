{
 "cells": [
  {
   "cell_type": "code",
   "execution_count": 1,
   "metadata": {},
   "outputs": [],
   "source": [
    "import xgboost as xgb\n",
    "import pandas as pd\n",
    "from sklearn.model_selection import train_test_split\n",
    "from sklearn.metrics import log_loss\n",
    "from scipy.special import rel_entr\n",
    "import numpy as np"
   ]
  },
  {
   "cell_type": "code",
   "execution_count": 2,
   "metadata": {},
   "outputs": [],
   "source": [
    "train_processed_sample = 'data/processed/train_processed_sample1.csv'\n",
    "train_processed_target = 'data/processed/train_processed_target.csv'\n",
    "\n",
    "test_processed_sample = 'data/processed/test_processed_sample1.csv'\n",
    "test_processed_target = 'data/processed/test_processed_target.csv'\n",
    "test_processed_diff = 'data/processed/test_processed_differential_diagnosis.csv'\n",
    "\n",
    "validate_processed_sample = 'data/processed/validate_processed_sample.csv'\n",
    "validate_processed_target = 'data/processed/validate_processed_target.csv'"
   ]
  },
  {
   "cell_type": "code",
   "execution_count": 3,
   "metadata": {},
   "outputs": [],
   "source": [
    "X_train = pd.read_csv(train_processed_sample)\n",
    "y_train = pd.read_csv(train_processed_target)\n",
    "\n",
    "dtrain = xgb.DMatrix(X_train, label=y_train)\n",
    "\n",
    "# del X_train\n",
    "# del y_train"
   ]
  },
  {
   "cell_type": "code",
   "execution_count": 4,
   "metadata": {},
   "outputs": [],
   "source": [
    "params = {\n",
    "    'objective': 'multi:softprob',  # Multi-class classification with probabilities\n",
    "    'num_class': 49,  # Number of classes\n",
    "    'eval_metric': 'mlogloss',  # Multi-class log loss\n",
    "    'max_depth': 10,  # Maximum depth of a tree\n",
    "    'learning_rate': 0.4,  # Learning rate\n",
    "    'subsample': 0.8,  # Subsample ratio\n",
    "    'colsample_bytree': 0.8,  # Subsample ratio of columns\n",
    "    'seed': 345,\n",
    "    'device': 'cuda',\n",
    "}\n",
    "\n",
    "bst = xgb.train(params, dtrain, num_boost_round=20)"
   ]
  },
  {
   "cell_type": "code",
   "execution_count": 5,
   "metadata": {},
   "outputs": [
    {
     "name": "stdout",
     "output_type": "stream",
     "text": [
      "KL Divergence: inf\n"
     ]
    }
   ],
   "source": [
    "X_test = pd.read_csv(test_processed_sample)\n",
    "y_test = pd.read_csv(test_processed_target)\n",
    "\n",
    "dtest = xgb.DMatrix(X_test, label=y_test)\n",
    "\n",
    "del X_test\n",
    "del y_test\n",
    "\n",
    "y_pred_prob = bst.predict(dtest)\n",
    "diff_test = pd.read_csv(test_processed_diff)\n",
    "diff_test = diff_test.to_numpy()\n",
    "\n",
    "kl_divergence = np.sum(rel_entr(diff_test, y_pred_prob))/diff_test.shape[0]\n",
    "print(f'KL Divergence: {kl_divergence:.4f}')"
   ]
  },
  {
   "cell_type": "code",
   "execution_count": 6,
   "metadata": {},
   "outputs": [],
   "source": [
    "# Save the model to a file\n",
    "model_filename = 'model/xgboost_model_dep10_rnd20_sed345_lr04.json'\n",
    "bst.save_model(model_filename)"
   ]
  },
  {
   "cell_type": "code",
   "execution_count": 7,
   "metadata": {},
   "outputs": [
    {
     "name": "stdout",
     "output_type": "stream",
     "text": [
      "[35  8 39 ... 42 41 44] [35  8 14 ... 42 15 15] 0.44692965828929077\n"
     ]
    }
   ],
   "source": [
    "import json\n",
    "from sklearn.metrics import accuracy_score\n",
    "\n",
    "predicted_classes = np.argmax(y_pred_prob, axis=1)\n",
    "y_test = pd.read_csv(test_processed_target)\n",
    "y_test = y_test['PATHOLOGY'].values\n",
    "score = accuracy_score(y_test, predicted_classes)\n",
    "print(y_test, predicted_classes, score)\n"
   ]
  },
  {
   "cell_type": "code",
   "execution_count": 8,
   "metadata": {},
   "outputs": [
    {
     "name": "stdout",
     "output_type": "stream",
     "text": [
      "[ 3  5 33 ... 35 48 24] [ 3  4 33 ... 35 48 34] 0.44832689055327374\n"
     ]
    }
   ],
   "source": [
    "X_val = pd.read_csv(validate_processed_sample)\n",
    "y_val = pd.read_csv(validate_processed_target)\n",
    "\n",
    "dval = xgb.DMatrix(X_val, label=y_val)\n",
    "\n",
    "del X_val\n",
    "del y_val\n",
    "\n",
    "y_pred_prob = bst.predict(dval)\n",
    "\n",
    "predicted_classes = np.argmax(y_pred_prob, axis=1)\n",
    "y_val = pd.read_csv(validate_processed_target)\n",
    "y_val = y_val['PATHOLOGY'].values\n",
    "score = accuracy_score(y_val, predicted_classes)\n",
    "print(y_val, predicted_classes, score)\n"
   ]
  }
 ],
 "metadata": {
  "kernelspec": {
   "display_name": "venv",
   "language": "python",
   "name": "python3"
  },
  "language_info": {
   "codemirror_mode": {
    "name": "ipython",
    "version": 3
   },
   "file_extension": ".py",
   "mimetype": "text/x-python",
   "name": "python",
   "nbconvert_exporter": "python",
   "pygments_lexer": "ipython3",
   "version": "3.8.10"
  }
 },
 "nbformat": 4,
 "nbformat_minor": 2
}
