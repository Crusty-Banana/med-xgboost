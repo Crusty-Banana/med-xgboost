{
 "cells": [
  {
   "cell_type": "code",
   "execution_count": null,
   "metadata": {},
   "outputs": [],
   "source": [
    "import xgboost as xgb\n",
    "import pandas as pd\n",
    "from sklearn.model_selection import train_test_split\n",
    "from sklearn.metrics import log_loss"
   ]
  },
  {
   "cell_type": "code",
   "execution_count": null,
   "metadata": {},
   "outputs": [],
   "source": [
    "train_processed_sample = 'data/processed/train_processed_sample.csv'\n",
    "train_processed_target = 'data/processed/train_processed_target.csv'\n",
    "\n",
    "test_processed_sample = 'data/processed/test_processed_sample.csv'\n",
    "test_processed_target = 'data/processed/test_processed_target.csv'\n",
    "\n",
    "validate_processed_sample = 'data/processed/validate_processed_sample.csv'\n",
    "validate_processed_target = 'data/processed/validate_processed_target.csv'"
   ]
  },
  {
   "cell_type": "code",
   "execution_count": null,
   "metadata": {},
   "outputs": [],
   "source": [
    "X_train = pd.read_csv(train_processed_sample)\n",
    "y_train = pd.read_csv(train_processed_target)\n",
    "\n",
    "X_test = pd.read_csv(test_processed_sample)\n",
    "y_test = pd.read_csv(test_processed_target)\n",
    "\n",
    "X_val = pd.read_csv(validate_processed_sample)\n",
    "y_val = pd.read_csv(validate_processed_target)"
   ]
  },
  {
   "cell_type": "code",
   "execution_count": 2,
   "metadata": {},
   "outputs": [
    {
     "ename": "NameError",
     "evalue": "name 'pd' is not defined",
     "output_type": "error",
     "traceback": [
      "\u001b[0;31m---------------------------------------------------------------------------\u001b[0m",
      "\u001b[0;31mNameError\u001b[0m                                 Traceback (most recent call last)",
      "Cell \u001b[0;32mIn[2], line 1\u001b[0m\n\u001b[0;32m----> 1\u001b[0m X \u001b[38;5;241m=\u001b[39m \u001b[43mpd\u001b[49m\u001b[38;5;241m.\u001b[39mread_csv(\u001b[38;5;124m\"\u001b[39m\u001b[38;5;124mtrain_sample_new.csv\u001b[39m\u001b[38;5;124m\"\u001b[39m)\n\u001b[1;32m      2\u001b[0m y \u001b[38;5;241m=\u001b[39m pd\u001b[38;5;241m.\u001b[39mread_csv(\u001b[38;5;124m\"\u001b[39m\u001b[38;5;124mtrain_target_new.csv\u001b[39m\u001b[38;5;124m\"\u001b[39m)\n\u001b[1;32m      4\u001b[0m X_train, X_test, y_train, y_test \u001b[38;5;241m=\u001b[39m train_test_split(X, y, test_size\u001b[38;5;241m=\u001b[39m\u001b[38;5;241m0.3\u001b[39m, random_state\u001b[38;5;241m=\u001b[39m\u001b[38;5;241m42\u001b[39m)\n",
      "\u001b[0;31mNameError\u001b[0m: name 'pd' is not defined"
     ]
    }
   ],
   "source": [
    "# Create DMatrix for model\n",
    "dtrain = xgb.DMatrix(X_train, label=y_train)\n",
    "dtest = xgb.DMatrix(X_test, label=y_test)\n",
    "\n",
    "params = {\n",
    "    'objective': 'multi:softprob',  # Multi-class classification with probabilities\n",
    "    'num_class': y.shape[1],  # Number of classes\n",
    "    'eval_metric': 'mlogloss',  # Multi-class log loss\n",
    "    'max_depth': 6,  # Maximum depth of a tree\n",
    "    'learning_rate': 0.1,  # Learning rate\n",
    "    'subsample': 0.8,  # Subsample ratio\n",
    "    'colsample_bytree': 0.8,  # Subsample ratio of columns\n",
    "}\n",
    "\n",
    "bst = xgb.train(params, dtrain, num_boost_round=100)\n",
    "\n",
    "y_pred_prob = bst.predict(dtest)\n",
    "\n",
    "# Evaluate the model\n",
    "logloss = log_loss(y_test, y_pred_prob)\n",
    "print(f'Log Loss: {logloss:.4f}')\n",
    "\n",
    "print('Predicted Probabilities:')\n",
    "print(pd.DataFrame(y_pred_prob, columns=[f'Class_{i}' for i in range(y.shape[1])]))\n",
    "\n",
    "# Save the model to a file\n",
    "model_filename = 'model/xgboost_model_1.json'\n",
    "bst.save_model(model_filename)"
   ]
  }
 ],
 "metadata": {
  "kernelspec": {
   "display_name": "venv",
   "language": "python",
   "name": "python3"
  },
  "language_info": {
   "codemirror_mode": {
    "name": "ipython",
    "version": 3
   },
   "file_extension": ".py",
   "mimetype": "text/x-python",
   "name": "python",
   "nbconvert_exporter": "python",
   "pygments_lexer": "ipython3",
   "version": "3.8.10"
  }
 },
 "nbformat": 4,
 "nbformat_minor": 2
}
